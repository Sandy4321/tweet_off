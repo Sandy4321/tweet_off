{
 "cells": [
  {
   "cell_type": "code",
   "execution_count": 3,
   "metadata": {
    "collapsed": true
   },
   "outputs": [],
   "source": [
    "from math import log"
   ]
  },
  {
   "cell_type": "code",
   "execution_count": 62,
   "metadata": {
    "collapsed": false
   },
   "outputs": [
    {
     "data": {
      "text/plain": [
       "'You can make time to tell someone what they did wrong, you can make time to tell someone what they did right. Leadership...'"
      ]
     },
     "execution_count": 62,
     "metadata": {},
     "output_type": "execute_result"
    }
   ],
   "source": [
    "s1='RT @MattMonge: If you can make time to tell someone what they did wrong, you can make time to tell someone what they did right. #leadership...'\n",
    "'You can make time to tell someone what they did wrong, you can make time to tell someone what they did right. Leadership...'"
   ]
  },
  {
   "cell_type": "code",
   "execution_count": 8,
   "metadata": {
    "collapsed": true
   },
   "outputs": [],
   "source": [
    "import tweepy\n",
    "import json\n",
    "from ttp import ttp\n",
    "from math import log\n",
    "from unidecode import unidecode\n",
    "import HTMLParser\n",
    "from nltk import sent_tokenize\n",
    "from keys import keys\n",
    "from hashtags import *"
   ]
  },
  {
   "cell_type": "code",
   "execution_count": 85,
   "metadata": {
    "collapsed": true
   },
   "outputs": [],
   "source": [
    "def strip_tags(text):\n",
    "    text = text.replace('\\n', ' ')\n",
    "\n",
    "    # get rid of period sometimes placed before @username in the beginning\n",
    "    if text[0] == '.':\n",
    "        text = text[1:]\n",
    "\n",
    "    if text[-3:] == '...':\n",
    "        text = text[:-3]\n",
    "\n",
    "    tokens = text.split()\n",
    "    for ix, word in enumerate(tokens):\n",
    "        if word == 'RT':\n",
    "            tokens.pop(ix)\n",
    "            try:\n",
    "                tokens.pop(ix)  # try to pop what was behind the RT\n",
    "            except:\n",
    "                pass\n",
    "    text = ' '.join(tokens)\n",
    "\n",
    "    # remove junk at the end that is just a stream of hashtags and @'s'\n",
    "    tokens = text.lower().split()\n",
    "    more_slop = True\n",
    "    while more_slop:\n",
    "        first_char_last_token = tokens[-1][0]\n",
    "        last_char_last_token = tokens[-1][-1]\n",
    "        if tokens[-1].startswith('http'):\n",
    "            tokens.pop()\n",
    "            text = ' '.join(tokens)\n",
    "        elif first_char_last_token in '.#@([' and last_char_last_token not in '.!?':\n",
    "            tokens.pop()\n",
    "            text = ' '.join(tokens)\n",
    "        elif tokens[-1] in ['via', 'on', 'with']:\n",
    "            tokens.pop()\n",
    "            text = ' '.join(tokens)\n",
    "        else:\n",
    "            more_slop = False\n",
    "\n",
    "    p = ttp.Parser()\n",
    "    result = p.parse(text)\n",
    "\n",
    "    for i in result.users:\n",
    "        text = text.replace('@'+i, i.capitalize())\n",
    "\n",
    "    # remove links\n",
    "    for i in result.urls:\n",
    "        text = text.replace(i+', ', '')\n",
    "        text = text.replace(i+' ', '')\n",
    "        text = text.replace(' '+i, '')\n",
    "        text = text.replace(i, '') # where tweet consists only of the link\n",
    "\n",
    "    # remove last word if now it is via after stripping an @-name\n",
    "    tokens = text.split()\n",
    "    last_word = tokens[-1]\n",
    "    slop = ['via', 'on', 'with']\n",
    "    if last_word in slop or len(last_word) < 2:\n",
    "        tokens.pop()\n",
    "        text = ' '.join(tokens)\n",
    "\n",
    "    # remove junk at front of tweet\n",
    "    tokens = text.split()\n",
    "    more_slop = True\n",
    "    while more_slop:\n",
    "        first_char_first_token = tokens[0][0]\n",
    "        if first_char_first_token in ['#', '@']:\n",
    "            tokens.pop(0)\n",
    "            text = ' '.join(tokens)\n",
    "        else:\n",
    "            more_slop = False\n",
    "\n",
    "    # remove first word if it is now colon or ends in colon\n",
    "    tokens = text.split()\n",
    "    first_word = tokens[0]\n",
    "    if first_word[-1] == ':':\n",
    "        tokens.pop(0)\n",
    "        text = ' '.join(tokens)\n",
    "\n",
    "    result = p.parse(text)\n",
    "\n",
    "    # unravel hashtags and remove hashmark\n",
    "    for i in result.tags:\n",
    "        unraveled = infer_spaces(i)\n",
    "        text = text.replace('#'+i, unraveled)\n",
    "\n",
    "    text = text.strip()\n",
    "\n",
    "    if text[-1] in ':-|':\n",
    "        text = text[:-1]\n",
    "    if text[-1] in ['=>', ' -', '->']:\n",
    "        text = text[:-2] + '.'\n",
    "    if text[-1] not in '.?!':\n",
    "        text = text + '.'\n",
    "\n",
    "    return sentence_case(text.strip())\n"
   ]
  },
  {
   "cell_type": "code",
   "execution_count": 86,
   "metadata": {
    "collapsed": false
   },
   "outputs": [
    {
     "name": "stdout",
     "output_type": "stream",
     "text": [
      "RT @MattMonge: If you can make time to tell someone what they did wrong, you can make time to tell someone what they did right. #leadership...\n",
      "If you can make time to tell someone what they did wrong, you can make time to tell someone what they did right.\n"
     ]
    }
   ],
   "source": [
    "print s1\n",
    "print strip_tags(s1)"
   ]
  },
  {
   "cell_type": "markdown",
   "metadata": {},
   "source": [
    "# fix missing if and fix leadership at the end "
   ]
  },
  {
   "cell_type": "code",
   "execution_count": 84,
   "metadata": {
    "collapsed": false
   },
   "outputs": [
    {
     "data": {
      "text/plain": [
       "'RT @MattMonge: If you can make time to tell someone what they did wrong, you can make time to tell someone what they did right. #leadership...'"
      ]
     },
     "execution_count": 84,
     "metadata": {},
     "output_type": "execute_result"
    }
   ],
   "source": [
    "text = s1\n",
    "if text[-3] == '...':\n",
    "    text = text[:-3]\n",
    "text"
   ]
  },
  {
   "cell_type": "code",
   "execution_count": null,
   "metadata": {
    "collapsed": true
   },
   "outputs": [],
   "source": []
  }
 ],
 "metadata": {
  "kernelspec": {
   "display_name": "Python 2",
   "language": "python",
   "name": "python2"
  },
  "language_info": {
   "codemirror_mode": {
    "name": "ipython",
    "version": 2
   },
   "file_extension": ".py",
   "mimetype": "text/x-python",
   "name": "python",
   "nbconvert_exporter": "python",
   "pygments_lexer": "ipython2",
   "version": "2.7.11"
  }
 },
 "nbformat": 4,
 "nbformat_minor": 0
}
